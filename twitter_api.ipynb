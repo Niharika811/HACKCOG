{
 "cells": [
  {
   "cell_type": "code",
   "execution_count": null,
   "metadata": {},
   "outputs": [],
   "source": [
    "import tweepy\n",
    "from transformers import AutoTokenizer, AutoModelForSequenceClassification\n",
    "from scipy.special import softmax\n",
    "\n",
    "# Set your Twitter API credentials\n",
    "consumer_key = 'YOUR_CONSUMER_KEY'\n",
    "consumer_secret = 'YOUR_CONSUMER_SECRET'\n",
    "access_token = 'YOUR_ACCESS_TOKEN'\n",
    "access_token_secret = 'YOUR_ACCESS_TOKEN_SECRET'\n",
    "\n",
    "# Set the target username and number of recent tweets to fetch\n",
    "username = 'target_username'\n",
    "num_tweets = 15\n",
    "\n",
    "# Set up Twitter API authentication\n",
    "auth = tweepy.OAuthHandler(consumer_key, consumer_secret)\n",
    "auth.set_access_token(access_token, access_token_secret)\n",
    "api = tweepy.API(auth)\n",
    "\n",
    "# Fetch recent tweets of the user\n",
    "tweets = api.user_timeline(screen_name=username, count=num_tweets, tweet_mode='extended')\n",
    "\n",
    "# Load the RoBERTa sentiment analysis model and tokenizer\n",
    "roberta_model_name = \"cardiffnlp/twitter-roberta-base-sentiment\"\n",
    "model = AutoModelForSequenceClassification.from_pretrained(roberta_model_name)\n",
    "tokenizer = AutoTokenizer.from_pretrained(roberta_model_name)\n",
    "labels = ['Negative', 'Neutral', 'Positive']\n",
    "\n",
    "# Analyze sentiment of each fetched tweet\n",
    "for tweet in tweets:\n",
    "    tweet_text = tweet.full_text\n",
    "    tweet_words = []\n",
    "\n",
    "    # Preprocess the tweet text\n",
    "    for word in tweet_text.split(' '):\n",
    "        if word.startswith('@') and len(word) > 1:\n",
    "            word = '@user'\n",
    "        elif word.startswith('http'):\n",
    "            word = \"http\"\n",
    "        tweet_words.append(word)\n",
    "    \n",
    "    tweet_proc = \" \".join(tweet_words)\n",
    "    \n",
    "    encoded_tweet = tokenizer(tweet_proc, return_tensors='pt')\n",
    "    output = model(**encoded_tweet)\n",
    "    \n",
    "    scores = output[0][0].detach().numpy()\n",
    "    scores = softmax(scores)\n",
    "    \n",
    "    max_score_index = scores.argmax()\n",
    "    max_label = labels[max_score_index]\n",
    "    \n",
    "    print(\"Tweet:\", tweet_text)\n",
    "    print(\"Sentiment:\", max_label)\n",
    "    print()"
   ]
  }
 ],
 "metadata": {
  "kernelspec": {
   "display_name": "Python 3",
   "language": "python",
   "name": "python3"
  },
  "language_info": {
   "codemirror_mode": {
    "name": "ipython",
    "version": 3
   },
   "file_extension": ".py",
   "mimetype": "text/x-python",
   "name": "python",
   "nbconvert_exporter": "python",
   "pygments_lexer": "ipython3",
   "version": "3.11.4"
  },
  "orig_nbformat": 4
 },
 "nbformat": 4,
 "nbformat_minor": 2
}
