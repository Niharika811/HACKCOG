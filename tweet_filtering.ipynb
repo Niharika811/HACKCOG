{
 "cells": [
  {
   "cell_type": "code",
   "execution_count": 2,
   "metadata": {},
   "outputs": [],
   "source": [
    "def is_greeting_tweet(tweet_text):\n",
    "    greeting_keywords = [\"hello\", \"hi\", \"hey\",\"thank's\",\"thank you\" ,\"good morning\", \"good afternoon\", \"thanks\", \"thank you\"]\n",
    "    # Convert tweet text to lowercase for case-insensitive matching\n",
    "    tweet_text_lower = tweet_text.lower()\n",
    "\n",
    "    # Check if any greeting keywords are present in the tweet\n",
    "    for keyword in greeting_keywords:\n",
    "        if re.search(r'\\b' + re.escape(keyword) + r'\\b', tweet_text_lower):\n",
    "            return True\n",
    "    return False"
   ]
  },
  {
   "cell_type": "code",
   "execution_count": 3,
   "metadata": {},
   "outputs": [
    {
     "name": "stdout",
     "output_type": "stream",
     "text": [
      "This is a greeting tweet.\n"
     ]
    }
   ],
   "source": [
    "tweet = \"Hello everyone! Just wanted to say hi.\"\n",
    "if is_greeting_tweet(tweet):\n",
    "    print(\"This is a greeting tweet.\")\n",
    "else:\n",
    "    print(\"This tweet is important.\")"
   ]
  }
 ],
 "metadata": {
  "kernelspec": {
   "display_name": "Python 3",
   "language": "python",
   "name": "python3"
  },
  "language_info": {
   "codemirror_mode": {
    "name": "ipython",
    "version": 3
   },
   "file_extension": ".py",
   "mimetype": "text/x-python",
   "name": "python",
   "nbconvert_exporter": "python",
   "pygments_lexer": "ipython3",
   "version": "3.11.4"
  },
  "orig_nbformat": 4
 },
 "nbformat": 4,
 "nbformat_minor": 2
}
