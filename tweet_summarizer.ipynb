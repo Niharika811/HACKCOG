{
 "cells": [
  {
   "cell_type": "code",
   "execution_count": null,
   "metadata": {},
   "outputs": [],
   "source": [
    "from transformers import BartForConditionalGeneration, BartTokenizer\n",
    "\n",
    "def abstractive_summarize(text, max_length=150):\n",
    "    \"\"\"\n",
    "    Perform abstractive summarization using the BART model from Hugging Face.\n",
    "\n",
    "    Args:\n",
    "        text (str): The input text to be summarized.\n",
    "        max_length (int): The maximum length of the generated summary.\n",
    "\n",
    "    Returns:\n",
    "        str: The abstractive summary.\n",
    "    \"\"\"\n",
    "    model_name = \"facebook/bart-large-cnn\"\n",
    "    tokenizer = BartTokenizer.from_pretrained(model_name)\n",
    "    model = BartForConditionalGeneration.from_pretrained(model_name)\n",
    "\n",
    "    inputs = tokenizer.encode(\"summarize: \" + text, return_tensors=\"pt\", max_length=1024, truncation=True)\n",
    "    summary_ids = model.generate(inputs, max_length=max_length, min_length=10, length_penalty=2.0, num_beams=4, early_stopping=True)\n",
    "\n",
    "    summary = tokenizer.decode(summary_ids[0], skip_special_tokens=True)\n",
    "    return summary\n",
    "\n",
    "# Example text\n",
    "input_text = \"\"\"\n",
    "GPT-3, developed by OpenAI, is a powerful language model that has gained significant attention in recent years.\n",
    "It can generate human-like text, answer questions, and even write code. GPT-3's applications are vast and diverse.\n",
    "From chatbots to content generation, it's changing the way we interact with technology.\n",
    "\"\"\"\n",
    "\n",
    "# Abstractive summarization\n",
    "summary = abstractive_summarize(input_text);\n",
    "print(\"Original text:\\n\", input_text);\n",
    "print(\"\\nAbstractive Summary:\\n\", summary);\n",
    "\n"
   ]
  }
 ],
 "metadata": {
  "kernelspec": {
   "display_name": "Python 3",
   "language": "python",
   "name": "python3"
  },
  "language_info": {
   "codemirror_mode": {
    "name": "ipython",
    "version": 3
   },
   "file_extension": ".py",
   "mimetype": "text/x-python",
   "name": "python",
   "nbconvert_exporter": "python",
   "pygments_lexer": "ipython3",
   "version": "3.11.4"
  },
  "orig_nbformat": 4
 },
 "nbformat": 4,
 "nbformat_minor": 2
}
