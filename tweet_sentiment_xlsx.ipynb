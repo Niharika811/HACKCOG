{
 "cells": [
  {
   "cell_type": "code",
   "execution_count": 1,
   "metadata": {},
   "outputs": [
    {
     "name": "stderr",
     "output_type": "stream",
     "text": [
      "c:\\Users\\Yash Waldia\\AppData\\Local\\Programs\\Python\\Python311\\Lib\\site-packages\\tqdm\\auto.py:21: TqdmWarning: IProgress not found. Please update jupyter and ipywidgets. See https://ipywidgets.readthedocs.io/en/stable/user_install.html\n",
      "  from .autonotebook import tqdm as notebook_tqdm\n"
     ]
    },
    {
     "name": "stdout",
     "output_type": "stream",
     "text": [
      "Sentiment Analysis Result:\n",
      "Positive: 3\n",
      "Neutral: 0\n",
      "Negative: 1\n",
      "Majority Sentiment: Positive\n"
     ]
    }
   ],
   "source": [
    "from transformers import AutoTokenizer, AutoModelForSequenceClassification\n",
    "import pandas as pd\n",
    "\n",
    "# Load the pre-trained sentiment analysis model and tokenizer\n",
    "roberta = \"cardiffnlp/twitter-roberta-base-sentiment\"\n",
    "model = AutoModelForSequenceClassification.from_pretrained(roberta)\n",
    "tokenizer = AutoTokenizer.from_pretrained(roberta)\n",
    "\n",
    "# Define sentiment labels\n",
    "labels = ['Negative', 'Neutral', 'Positive']\n",
    "\n",
    "# Load tweets from an Excel file\n",
    "excel_file_path = 'tweets.xlsx'\n",
    "tweets_df = pd.read_excel(excel_file_path, header=None)  # Assuming no header\n",
    "\n",
    "# List to store sentiment predictions for all tweets\n",
    "sentiment_predictions = []\n",
    "\n",
    "# Iterate through each row in the DataFrame (starting from index 0)\n",
    "for index, row in tweets_df.iterrows():\n",
    "    tweet = row[0]  # Accessing column 'A'\n",
    "\n",
    "    # Preprocess the tweet\n",
    "    tweet_words = []\n",
    "    for word in tweet.split(' '):\n",
    "        if word.startswith('@') and len(word) > 1:\n",
    "            word = '@user'\n",
    "        elif word.startswith('http'):\n",
    "            word = \"http\"\n",
    "        tweet_words.append(word)\n",
    "    tweet_proc = \" \".join(tweet_words)\n",
    "\n",
    "    # Tokenize and encode the preprocessed tweet\n",
    "    encoded_tweet = tokenizer(tweet_proc, return_tensors='pt')\n",
    "\n",
    "    # Pass the encoded tweet through the model to get sentiment prediction\n",
    "    output = model(**encoded_tweet)\n",
    "    predicted_class = output.logits.argmax().item()\n",
    "    predicted_label = labels[predicted_class]\n",
    "\n",
    "    # Store sentiment prediction for this tweet\n",
    "    sentiment_predictions.append(predicted_label)\n",
    "\n",
    "# Count the occurrences of each sentiment label\n",
    "sentiment_counts = {label: sentiment_predictions.count(label) for label in labels}\n",
    "\n",
    "# Determine the majority sentiment\n",
    "majority_sentiment = max(sentiment_counts, key=sentiment_counts.get)\n",
    "\n",
    "# Print the overall sentiment analysis result\n",
    "print(\"Sentiment Analysis Result:\")\n",
    "print(\"Positive:\", sentiment_counts['Positive'])\n",
    "print(\"Neutral:\", sentiment_counts['Neutral'])\n",
    "print(\"Negative:\", sentiment_counts['Negative'])\n",
    "print(\"Majority Sentiment:\", majority_sentiment)\n"
   ]
  }
 ],
 "metadata": {
  "kernelspec": {
   "display_name": "Python 3",
   "language": "python",
   "name": "python3"
  },
  "language_info": {
   "codemirror_mode": {
    "name": "ipython",
    "version": 3
   },
   "file_extension": ".py",
   "mimetype": "text/x-python",
   "name": "python",
   "nbconvert_exporter": "python",
   "pygments_lexer": "ipython3",
   "version": "3.11.4"
  },
  "orig_nbformat": 4
 },
 "nbformat": 4,
 "nbformat_minor": 2
}
